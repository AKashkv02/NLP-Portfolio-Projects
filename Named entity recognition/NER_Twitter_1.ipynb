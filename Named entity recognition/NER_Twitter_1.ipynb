{
  "cells": [
    {
      "cell_type": "markdown",
      "metadata": {
        "id": "at3FQVEi0F-w"
      },
      "source": [
        "# Problem statement\n",
        "\n",
        "*Context*: Twitter is a microblogging and social networking service on which users post and interact with messages known as \"tweets\". Every second, on average, around 6,000 tweets are tweeted on Twitter, corresponding to over 350,000 tweets sent per minute, 500 million tweets per day.\n",
        "Twitter wants to automatically tag and analyze tweets for better understanding of the trends and topics without being dependent on the hashtags that the users use. Many users do not use hashtags or sometimes use wrong or mis-spelled tags, so they want to completely remove this problem and create a system of recognizing important content of the tweets.\n",
        "\n",
        "*Objective*: You need to train a model that will be able to identify the various named entities.\n"
      ]
    },
    {
      "cell_type": "markdown",
      "metadata": {
        "id": "MSl9ZJz2z_tW"
      },
      "source": [
        "## Downloading data"
      ]
    },
    {
      "cell_type": "code",
      "execution_count": null,
      "metadata": {
        "colab": {
          "base_uri": "https://localhost:8080/"
        },
        "id": "DabeGjENi-ER",
        "outputId": "748ef022-7350-409f-8a4c-09ccd0beb907"
      },
      "outputs": [
        {
          "name": "stdout",
          "output_type": "stream",
          "text": [
            "Downloading...\n",
            "From: https://drive.google.com/uc?id=14_VHffl1qBUEnZ1IWFHnh6B9M5_A-Wf8\n",
            "To: /content/wnut 16.txt.conll\n",
            "100% 403k/403k [00:00<00:00, 118MB/s]\n",
            "Downloading...\n",
            "From: https://drive.google.com/uc?id=1cnrGjppPOU_NtHNpGu0RJGg1CUNNsse_\n",
            "To: /content/wnut 16test.txt.conll\n",
            "100% 635k/635k [00:00<00:00, 132MB/s]\n"
          ]
        }
      ],
      "source": [
        "!gdown 14_VHffl1qBUEnZ1IWFHnh6B9M5_A-Wf8\n",
        "!gdown 1cnrGjppPOU_NtHNpGu0RJGg1CUNNsse_"
      ]
    },
    {
      "cell_type": "markdown",
      "metadata": {
        "id": "CTg2TR-b0DFT"
      },
      "source": [
        "## Installing libraries"
      ]
    },
    {
      "cell_type": "code",
      "execution_count": null,
      "metadata": {
        "colab": {
          "base_uri": "https://localhost:8080/"
        },
        "id": "AUAWW6bSiGpI",
        "outputId": "3935becc-b7f9-4547-c1a4-26304d5a02bb"
      },
      "outputs": [
        {
          "name": "stdout",
          "output_type": "stream",
          "text": [
            "Looking in indexes: https://pypi.org/simple, https://us-python.pkg.dev/colab-wheels/public/simple/\n",
            "Requirement already satisfied: datasets in /usr/local/lib/python3.7/dist-packages (2.7.0)\n",
            "Requirement already satisfied: transformers in /usr/local/lib/python3.7/dist-packages (4.24.0)\n",
            "Requirement already satisfied: requests>=2.19.0 in /usr/local/lib/python3.7/dist-packages (from datasets) (2.23.0)\n",
            "Requirement already satisfied: huggingface-hub<1.0.0,>=0.2.0 in /usr/local/lib/python3.7/dist-packages (from datasets) (0.11.0)\n",
            "Requirement already satisfied: multiprocess in /usr/local/lib/python3.7/dist-packages (from datasets) (0.70.14)\n",
            "Requirement already satisfied: xxhash in /usr/local/lib/python3.7/dist-packages (from datasets) (3.1.0)\n",
            "Requirement already satisfied: packaging in /usr/local/lib/python3.7/dist-packages (from datasets) (21.3)\n",
            "Requirement already satisfied: importlib-metadata in /usr/local/lib/python3.7/dist-packages (from datasets) (4.13.0)\n",
            "Requirement already satisfied: fsspec[http]>=2021.11.1 in /usr/local/lib/python3.7/dist-packages (from datasets) (2022.10.0)\n",
            "Requirement already satisfied: pyarrow>=6.0.0 in /usr/local/lib/python3.7/dist-packages (from datasets) (6.0.1)\n",
            "Requirement already satisfied: tqdm>=4.62.1 in /usr/local/lib/python3.7/dist-packages (from datasets) (4.64.1)\n",
            "Requirement already satisfied: numpy>=1.17 in /usr/local/lib/python3.7/dist-packages (from datasets) (1.21.6)\n",
            "Requirement already satisfied: aiohttp in /usr/local/lib/python3.7/dist-packages (from datasets) (3.8.3)\n",
            "Requirement already satisfied: responses<0.19 in /usr/local/lib/python3.7/dist-packages (from datasets) (0.18.0)\n",
            "Requirement already satisfied: dill<0.3.7 in /usr/local/lib/python3.7/dist-packages (from datasets) (0.3.6)\n",
            "Requirement already satisfied: pandas in /usr/local/lib/python3.7/dist-packages (from datasets) (1.3.5)\n",
            "Requirement already satisfied: pyyaml>=5.1 in /usr/local/lib/python3.7/dist-packages (from datasets) (6.0)\n",
            "Requirement already satisfied: yarl<2.0,>=1.0 in /usr/local/lib/python3.7/dist-packages (from aiohttp->datasets) (1.8.1)\n",
            "Requirement already satisfied: frozenlist>=1.1.1 in /usr/local/lib/python3.7/dist-packages (from aiohttp->datasets) (1.3.3)\n",
            "Requirement already satisfied: async-timeout<5.0,>=4.0.0a3 in /usr/local/lib/python3.7/dist-packages (from aiohttp->datasets) (4.0.2)\n",
            "Requirement already satisfied: typing-extensions>=3.7.4 in /usr/local/lib/python3.7/dist-packages (from aiohttp->datasets) (4.1.1)\n",
            "Requirement already satisfied: attrs>=17.3.0 in /usr/local/lib/python3.7/dist-packages (from aiohttp->datasets) (22.1.0)\n",
            "Requirement already satisfied: asynctest==0.13.0 in /usr/local/lib/python3.7/dist-packages (from aiohttp->datasets) (0.13.0)\n",
            "Requirement already satisfied: aiosignal>=1.1.2 in /usr/local/lib/python3.7/dist-packages (from aiohttp->datasets) (1.3.1)\n",
            "Requirement already satisfied: charset-normalizer<3.0,>=2.0 in /usr/local/lib/python3.7/dist-packages (from aiohttp->datasets) (2.1.1)\n",
            "Requirement already satisfied: multidict<7.0,>=4.5 in /usr/local/lib/python3.7/dist-packages (from aiohttp->datasets) (6.0.2)\n",
            "Requirement already satisfied: filelock in /usr/local/lib/python3.7/dist-packages (from huggingface-hub<1.0.0,>=0.2.0->datasets) (3.8.0)\n",
            "Requirement already satisfied: pyparsing!=3.0.5,>=2.0.2 in /usr/local/lib/python3.7/dist-packages (from packaging->datasets) (3.0.9)\n",
            "Requirement already satisfied: chardet<4,>=3.0.2 in /usr/local/lib/python3.7/dist-packages (from requests>=2.19.0->datasets) (3.0.4)\n",
            "Requirement already satisfied: idna<3,>=2.5 in /usr/local/lib/python3.7/dist-packages (from requests>=2.19.0->datasets) (2.10)\n",
            "Requirement already satisfied: urllib3!=1.25.0,!=1.25.1,<1.26,>=1.21.1 in /usr/local/lib/python3.7/dist-packages (from requests>=2.19.0->datasets) (1.25.11)\n",
            "Requirement already satisfied: certifi>=2017.4.17 in /usr/local/lib/python3.7/dist-packages (from requests>=2.19.0->datasets) (2022.9.24)\n",
            "Requirement already satisfied: regex!=2019.12.17 in /usr/local/lib/python3.7/dist-packages (from transformers) (2022.6.2)\n",
            "Requirement already satisfied: tokenizers!=0.11.3,<0.14,>=0.11.1 in /usr/local/lib/python3.7/dist-packages (from transformers) (0.13.2)\n",
            "Requirement already satisfied: zipp>=0.5 in /usr/local/lib/python3.7/dist-packages (from importlib-metadata->datasets) (3.10.0)\n",
            "Requirement already satisfied: pytz>=2017.3 in /usr/local/lib/python3.7/dist-packages (from pandas->datasets) (2022.6)\n",
            "Requirement already satisfied: python-dateutil>=2.7.3 in /usr/local/lib/python3.7/dist-packages (from pandas->datasets) (2.8.2)\n",
            "Requirement already satisfied: six>=1.5 in /usr/local/lib/python3.7/dist-packages (from python-dateutil>=2.7.3->pandas->datasets) (1.15.0)\n",
            "Looking in indexes: https://pypi.org/simple, https://us-python.pkg.dev/colab-wheels/public/simple/\n",
            "Requirement already satisfied: tensorflow-addons in /usr/local/lib/python3.7/dist-packages (0.18.0)\n",
            "Requirement already satisfied: typeguard>=2.7 in /usr/local/lib/python3.7/dist-packages (from tensorflow-addons) (2.7.1)\n",
            "Requirement already satisfied: packaging in /usr/local/lib/python3.7/dist-packages (from tensorflow-addons) (21.3)\n",
            "Requirement already satisfied: pyparsing!=3.0.5,>=2.0.2 in /usr/local/lib/python3.7/dist-packages (from packaging->tensorflow-addons) (3.0.9)\n"
          ]
        }
      ],
      "source": [
        "%pip install datasets transformers\n",
        "%pip install tensorflow-addons"
      ]
    },
    {
      "cell_type": "code",
      "execution_count": null,
      "metadata": {
        "id": "wg5Yfb9P0L46"
      },
      "outputs": [],
      "source": [
        "import pandas as pd\n",
        "import tensorflow as tf"
      ]
    },
    {
      "cell_type": "markdown",
      "metadata": {
        "id": "hobF9tNHjZSc"
      },
      "source": [
        "## Loading data from the files"
      ]
    },
    {
      "cell_type": "code",
      "execution_count": null,
      "metadata": {
        "id": "-MzsPIKwkB-t"
      },
      "outputs": [],
      "source": [
        "def load_data(filename: str):\n",
        "  # Conll file is stored as (token, tag) pairs, one per line\n",
        "  # Extracting data from conll files\n",
        "  with open(filename, 'r') as file:\n",
        "    lines = [line[:-1].split() for line in file] # Skipping last line as it will be a blank space\n",
        "  samples, start = [], 0\n",
        "  for end, parts in enumerate(lines):\n",
        "      if not parts:\n",
        "          sample = [(token, tag)\n",
        "                      for token, tag in lines[start:end]]\n",
        "          samples.append(sample)\n",
        "          start = end + 1\n",
        "  if start < end:\n",
        "    samples.append(lines[start:end])\n",
        "  return samples\n",
        "\n",
        "train_samples = load_data('wnut 16.txt.conll')\n",
        "test_samples = load_data('wnut 16test.txt.conll')\n",
        "samples = train_samples + test_samples\n",
        "schema = ['_'] + sorted({tag for sentence in samples\n",
        "                             for _, tag in sentence}) # '_' is used to indicate a null (blank) token."
      ]
    },
    {
      "cell_type": "markdown",
      "metadata": {
        "id": "I0rw_3r5jhuI"
      },
      "source": [
        "## Structure of data"
      ]
    },
    {
      "cell_type": "code",
      "execution_count": null,
      "metadata": {
        "colab": {
          "base_uri": "https://localhost:8080/"
        },
        "id": "LYuLVDagmRL5",
        "outputId": "2a5a2752-08e3-4f2a-fa93-66c027c19b1b"
      },
      "outputs": [
        {
          "data": {
            "text/plain": [
              "[('Made', 'O'),\n",
              " ('it', 'O'),\n",
              " ('back', 'O'),\n",
              " ('home', 'O'),\n",
              " ('to', 'O'),\n",
              " ('GA', 'B-geo-loc'),\n",
              " ('.', 'O'),\n",
              " ('It', 'O'),\n",
              " ('sucks', 'O'),\n",
              " ('not', 'O'),\n",
              " ('to', 'O'),\n",
              " ('be', 'O'),\n",
              " ('at', 'O'),\n",
              " ('Disney', 'B-facility'),\n",
              " ('world', 'I-facility'),\n",
              " (',', 'O'),\n",
              " ('but', 'O'),\n",
              " ('its', 'O'),\n",
              " ('good', 'O'),\n",
              " ('to', 'O'),\n",
              " ('be', 'O'),\n",
              " ('home', 'O'),\n",
              " ('.', 'O'),\n",
              " ('Time', 'O'),\n",
              " ('to', 'O'),\n",
              " ('start', 'O'),\n",
              " ('planning', 'O'),\n",
              " ('the', 'O'),\n",
              " ('next', 'O'),\n",
              " ('Disney', 'B-facility'),\n",
              " ('World', 'I-facility'),\n",
              " ('trip', 'O'),\n",
              " ('.', 'O')]"
            ]
          },
          "execution_count": 5,
          "metadata": {},
          "output_type": "execute_result"
        }
      ],
      "source": [
        "train_samples[1]"
      ]
    },
    {
      "cell_type": "markdown",
      "metadata": {
        "id": "JaS4WFxetHgp"
      },
      "source": [
        "## EDA: Let's have a look at the distribution of tags on data"
      ]
    },
    {
      "cell_type": "code",
      "execution_count": null,
      "metadata": {
        "colab": {
          "base_uri": "https://localhost:8080/",
          "height": 358
        },
        "id": "x4eGILw5tMUb",
        "outputId": "caf76d18-c535-4a33-b77e-dba62ad1be23"
      },
      "outputs": [
        {
          "data": {
            "text/plain": [
              "<matplotlib.axes._subplots.AxesSubplot at 0x7f18c55d1750>"
            ]
          },
          "execution_count": 6,
          "metadata": {},
          "output_type": "execute_result"
        },
        {
          "data": {
            "image/png": "[encoded data removed]",
            "text/plain": [
              "<Figure size 432x288 with 1 Axes>"
            ]
          },
          "metadata": {},
          "output_type": "display_data"
        }
      ],
      "source": [
        "import seaborn as sns\n",
        "colors = ['violet', 'indigo', 'blue', 'green', 'yellow', 'orange', 'red']\n",
        "counts = {}\n",
        "\n",
        "# Calculateing the number of data points having a given label\n",
        "for tag in schema:\n",
        "  counts[tag] = 0\n",
        "  for sample in train_samples:\n",
        "    for label in sample:\n",
        "      if label[1] == tag:\n",
        "        counts[tag]+=1\n",
        "\n",
        "counts_df = pd.DataFrame({'keys': list(counts.keys()), 'values': list(counts.values())})\n",
        "counts_df.plot.bar(x='keys', y='values', legend=False, color=colors)"
      ]
    },
    {
      "cell_type": "markdown",
      "metadata": {
        "id": "4_lmaJBowNqr"
      },
      "source": [
        "- We have too many \"other\" fields, which is natural as only few annotations exist per sentence\n",
        "- let's remove `O` tag and see tag distribution"
      ]
    },
    {
      "cell_type": "code",
      "execution_count": null,
      "metadata": {
        "colab": {
          "base_uri": "https://localhost:8080/",
          "height": 358
        },
        "id": "ipVTM0eLwkWJ",
        "outputId": "8e619446-027e-4d2a-cdea-55f70e760248"
      },
      "outputs": [
        {
          "data": {
            "text/plain": [
              "<matplotlib.axes._subplots.AxesSubplot at 0x7f18c5622690>"
            ]
          },
          "execution_count": 7,
          "metadata": {},
          "output_type": "execute_result"
        },
        {
          "data": {
            "image/png": "[encoded data removed]",
            "text/plain": [
              "<Figure size 432x288 with 1 Axes>"
            ]
          },
          "metadata": {},
          "output_type": "display_data"
        }
      ],
      "source": [
        "counts.pop('O')\n",
        "counts_df = pd.DataFrame({'keys': list(counts.keys()), 'values': list(counts.values())})\n",
        "counts_df.plot.bar(x='keys', y='values', legend=False, color=colors)"
      ]
    },
    {
      "cell_type": "markdown",
      "metadata": {
        "id": "h3rbf0bqTUTz"
      },
      "source": [
        "## Tag information\n",
        "- B-* Start token for a tag\n",
        "- I-* Continuation tokens for a tag\n",
        "\n",
        "## Available Entities\n",
        "- Company\n",
        "- Facility\n",
        "- Geo-loc: geolocation\n",
        "- Musicartist\n",
        "- Person\n",
        "- Product\n",
        "- Sportsteam\n",
        "- TV Show\n",
        "- Other"
      ]
    },
    {
      "cell_type": "markdown",
      "metadata": {
        "id": "TQIslo-BCly3"
      },
      "source": [
        "### More preprocessing"
      ]
    },
    {
      "cell_type": "markdown",
      "metadata": {
        "id": "G1Yyb4bmBIxl"
      },
      "source": [
        "- let's get vocab & sequence lengths"
      ]
    },
    {
      "cell_type": "code",
      "execution_count": null,
      "metadata": {
        "colab": {
          "base_uri": "https://localhost:8080/"
        },
        "id": "NMMqyl5V-qey",
        "outputId": "e2031da7-06c5-45dd-b360-8bd17e240254"
      },
      "outputs": [
        {
          "name": "stdout",
          "output_type": "stream",
          "text": [
            "******************************\n",
            "Max Length:  39\n",
            "Vocab Size:  25382\n"
          ]
        }
      ],
      "source": [
        "from collections import defaultdict\n",
        "all_samples = train_samples\n",
        "all_samples.extend(test_samples)\n",
        "\n",
        "word_counts = defaultdict(int) # Calculate vocab size\n",
        "max_len = 0 # Calculate max length of a sentence\n",
        "\n",
        "for sample in all_samples:\n",
        "  for word in sample:\n",
        "    word_counts[word[0]]+=1\n",
        "\n",
        "  max_len = max(max_len, len(sample))\n",
        "\n",
        "n_words = len(word_counts.items())\n",
        "\n",
        "\n",
        "print(\"*\"*30)\n",
        "print(\"Max Length: \", max_len)\n",
        "print(\"Vocab Size: \", n_words)"
      ]
    },
    {
      "cell_type": "markdown",
      "metadata": {
        "id": "ZmyDZ8CnUCeW"
      },
      "source": [
        "## Our approach\n",
        "\n",
        "- Train a transformer based architectures , Finetuning BERT model"
      ]
    },
    {
      "cell_type": "markdown",
      "metadata": {
        "id": "0SOhIRwLWAB8"
      },
      "source": [
        "# BERT Model"
      ]
    },
    {
      "cell_type": "markdown",
      "metadata": {
        "id": "aSHidMIQk8EK"
      },
      "source": [
        "## Getting the  bert model"
      ]
    },
    {
      "cell_type": "code",
      "execution_count": null,
      "metadata": {
        "id": "FtG_qfNmlayh"
      },
      "outputs": [],
      "source": [
        "from transformers import AutoConfig, TFAutoModelForTokenClassification\n",
        "\n",
        "MODEL_NAME = 'bert-base-uncased'"
      ]
    },
    {
      "cell_type": "markdown",
      "metadata": {
        "id": "v-cb1G9uoDAa"
      },
      "source": [
        "# Loading the tokenizer"
      ]
    },
    {
      "cell_type": "code",
      "execution_count": null,
      "metadata": {
        "colab": {
          "base_uri": "https://localhost:8080/",
          "height": 145,
          "referenced_widgets": [
            "a48861e44ca74e2797999ac9ef6e3a3b",
            "40188b7a4a994da8924692f026dd7cd5",
            "8844c8d79070475db21eebbe2c3581c7",
            "75bca0dbbc794e6ea4874bd4f56ee808",
            "65165bf5460048a596e22e80b329b93b",
            "2417cc9e8c86487dbc779ec9f7129edc",
            "bbb6f3b659b74faf99e817bf68cf6614",
            "cb768cf334b8497cb75a40959e37604f",
            "2a70efd4005f4d64bdf0a89f3bd45237",
            "cc19ae24c8e548b297c775d05cf43663",
            "a19de98d9ceb4ed7a7612358c860daac",
            "a4d447bada574af48dd67b5205abb982",
            "1ee31808432944d695ee0e3f690ece20",
            "1cc2ce38bdbd487cb20993fcce404f31",
            "9b52eb1ef5794176b44d56f8fde432b7",
            "919abf143f2b4bbf9e410c0af2089016",
            "526cc82330f846f6b8c0a6c97a7b53e7",
            "7f4e4262e64b421cba570974a0af4959",
            "f601dbfe6f4942b3b0dc1fbdd81494b4",
            "829fa22c2740483e937646d2d13cdb94",
            "29208a241daf47be86bbdbfb0af44e16",
            "1ba810f7499f4c78958d1ecdb087a663",
            "e7685b3a12994a689958549292e2fbad",
            "40286f138e1b467eabd1f39be41cfcc2",
            "4c6c829f459545a2a913b9232ed446f6",
            "53c31e0475d642c6bc115a1ef4fe3b1e",
            "9b12f9a1faa8475b9387480f372501f4",
            "d9e63ba3c54f4332a7e7d4f8bfebeb25",
            "cc852f2ac21e43e0bd22ea2785e2241f",
            "2ff5b0631be74fb9b06f72f1ee1d4b8e",
            "443a12a9e85243c997f1223a57f00634",
            "313261169d654e58919b7aef462e463d",
            "295da648a4d843fdb314916b25aff556",
            "336e1ab49b1444cba3253b0add5508f3",
            "6c1bcf53d91948a68395ef78e8c2a1ee",
            "ed559b687e244a1384a5cb68db7747db",
            "cc1d0be9c0284d8087f5c38fd4a91439",
            "72997e3d7ed448ce8006ee46d8659d3d",
            "305bf2f6320e4a2cb556df7d9808f4a1",
            "ca430281412b439c8bdb105ac9dc6fca",
            "3bf3dc1a1ada45e99e2a427d85f0a4bf",
            "e7013ae85bf9485787705aefd0185b7f",
            "6c98a5a953e54c2f810c26bd66480db2",
            "ff9abb88daec4cdfb8bf0ef7e262b620"
          ]
        },
        "id": "dAxau3xskB9S",
        "outputId": "77dc5053-68d6-4ae9-f499-8be8996aac4e"
      },
      "outputs": [
        {
          "data": {
            "application/vnd.jupyter.widget-view+json": {
              "model_id": "a48861e44ca74e2797999ac9ef6e3a3b",
              "version_major": 2,
              "version_minor": 0
            },
            "text/plain": [
              "Downloading:   0%|          | 0.00/28.0 [00:00<?, ?B/s]"
            ]
          },
          "metadata": {},
          "output_type": "display_data"
        },
        {
          "data": {
            "application/vnd.jupyter.widget-view+json": {
              "model_id": "a4d447bada574af48dd67b5205abb982",
              "version_major": 2,
              "version_minor": 0
            },
            "text/plain": [
              "Downloading:   0%|          | 0.00/570 [00:00<?, ?B/s]"
            ]
          },
          "metadata": {},
          "output_type": "display_data"
        },
        {
          "data": {
            "application/vnd.jupyter.widget-view+json": {
              "model_id": "e7685b3a12994a689958549292e2fbad",
              "version_major": 2,
              "version_minor": 0
            },
            "text/plain": [
              "Downloading:   0%|          | 0.00/232k [00:00<?, ?B/s]"
            ]
          },
          "metadata": {},
          "output_type": "display_data"
        },
        {
          "data": {
            "application/vnd.jupyter.widget-view+json": {
              "model_id": "336e1ab49b1444cba3253b0add5508f3",
              "version_major": 2,
              "version_minor": 0
            },
            "text/plain": [
              "Downloading:   0%|          | 0.00/466k [00:00<?, ?B/s]"
            ]
          },
          "metadata": {},
          "output_type": "display_data"
        }
      ],
      "source": [
        "from transformers import AutoTokenizer\n",
        "tokenizer = AutoTokenizer.from_pretrained(MODEL_NAME) # Load bert-base-uncased tokenizer"
      ]
    },
    {
      "cell_type": "markdown",
      "metadata": {
        "id": "zJg1l3oYlORW"
      },
      "source": [
        "- tokenizer adds 101 and 102 token id at the start and end of the tokens\n",
        "- using[1:-1] to eliminate the extra 101, 102 that tokenizer adds\n",
        "- Let us have a peak at tokenization of a training sample"
      ]
    },
    {
      "cell_type": "code",
      "execution_count": null,
      "metadata": {
        "colab": {
          "base_uri": "https://localhost:8080/"
        },
        "id": "aLSyAPd4kB0R",
        "outputId": "20e3ba33-edef-4415-dcbb-222ae1930834"
      },
      "outputs": [
        {
          "name": "stdout",
          "output_type": "stream",
          "text": [
            "RT 19387\n",
            "@Hatshepsutely 1030\n",
            "@Hatshepsutely 16717\n",
            "@Hatshepsutely 5369\n",
            "@Hatshepsutely 4523\n",
            "@Hatshepsutely 10421\n",
            "@Hatshepsutely 2135\n",
            ": 1024\n",
            "@adamlambert 1030\n",
            "@adamlambert 4205\n",
            "@adamlambert 10278\n",
            "@adamlambert 8296\n",
            "please 3531\n",
            ", 1010\n",
            "oh 2821\n",
            "please 3531\n",
            "wear 4929\n",
            "the 1996\n",
            "infamous 14429\n",
            "beach 3509\n",
            "hat 6045\n",
            "tonight 3892\n",
            "during 2076\n",
            "your 2115\n",
            "encore 19493\n",
            "( 1006\n",
            "in 1999\n",
            "lieu 22470\n",
            "of 1997\n",
            "a 1037\n",
            "rasta 20710\n",
            "rasta 2696\n",
            "wig) 24405\n",
            "wig) 1007\n",
            ". 1012\n",
            "&lt; 1004\n",
            "&lt; 8318\n",
            "&lt; 1025\n",
            "3333 21211\n",
            "3333 2509\n"
          ]
        }
      ],
      "source": [
        "sample=train_samples[10] # Random tokenized sample\n",
        "for token, tag in sample:\n",
        "  for subtoken in tokenizer(token)['input_ids'][1:-1]:\n",
        "    print(token,subtoken)"
      ]
    },
    {
      "cell_type": "markdown",
      "metadata": {
        "id": "b_5S0esQNRQQ"
      },
      "source": [
        "### Get Datasets"
      ]
    },
    {
      "cell_type": "code",
      "execution_count": null,
      "metadata": {
        "id": "NBwtuVKZ9UaR"
      },
      "outputs": [],
      "source": [
        "import numpy as np\n",
        "import tqdm\n",
        "\n",
        "def tokenize_sample(sample):\n",
        "  # Expand label to all subtokens and add 'O' label to start and end tokens\n",
        "  seq = [\n",
        "    (subtoken, tag)\n",
        "    for token, tag in sample\n",
        "    for subtoken in tokenizer(token.lower())['input_ids'][1:-1]\n",
        "  ]\n",
        "  return [(3, 'O')] + seq + [(4, 'O')]\n",
        "\n",
        "def preprocess(samples, tag2id):\n",
        "  tokenized_samples = list((map(tokenize_sample, samples)))\n",
        "  max_len = max(map(len, tokenized_samples))\n",
        "\n",
        "  # Subtokens\n",
        "  X_input_ids = np.zeros((len(samples), max_len), dtype=np.int32)\n",
        "\n",
        "  # Masks\n",
        "  X_input_masks = np.zeros((len(samples), max_len), dtype=np.int32)\n",
        "\n",
        "  # labels\n",
        "  y = np.zeros((len(samples), max_len), dtype=np.int32)\n",
        "\n",
        "  for i, sentence in enumerate(tokenized_samples):\n",
        "    for j in range(len(sentence)):\n",
        "      X_input_masks[i, j] = 1\n",
        "    for j, (subtoken_id, tag) in enumerate(sentence):\n",
        "      X_input_ids[i, j] = subtoken_id\n",
        "      y[i, j] = tag2id[tag]\n",
        "  return (X_input_ids, X_input_masks), y\n",
        "\n",
        "X_train, y_train = preprocess(train_samples, tag2id)\n",
        "X_test, y_test = preprocess(test_samples, tag2id)"
      ]
    },
    {
      "cell_type": "markdown",
      "metadata": {
        "id": "u1dTKQSJ7476"
      },
      "source": [
        "## Loading model"
      ]
    },
    {
      "cell_type": "code",
      "execution_count": null,
      "metadata": {
        "colab": {
          "base_uri": "https://localhost:8080/",
          "height": 493,
          "referenced_widgets": [
            "79db348474844036b78664ba86773249",
            "3448e78739e24512942dddae8fb50a92",
            "d39e3733e6364903b652dd5c38248580",
            "ab5f4f6da1194e2596668a5a6338aa24",
            "7594bb47df32405a8a72523b660f60f4",
            "59299b5c1f5e4215b6a26d9502168921",
            "3fc00e3743fc453984d4b1677127fe07",
            "687b642741ae411c9defcadf3ffff0c4",
            "6dd5f236ff594122858c4223fb51a028",
            "3774503a38ef4f0faba837cdb5d4bf22",
            "b78dc86aacae4773a28323ccbcf64619"
          ]
        },
        "id": "BKY4i7ie3B-f",
        "outputId": "5dcabda1-dce8-412b-c9cc-e24e243be180"
      },
      "outputs": [
        {
          "data": {
            "application/vnd.jupyter.widget-view+json": {
              "model_id": "79db348474844036b78664ba86773249",
              "version_major": 2,
              "version_minor": 0
            },
            "text/plain": [
              "Downloading:   0%|          | 0.00/536M [00:00<?, ?B/s]"
            ]
          },
          "metadata": {},
          "output_type": "display_data"
        },
        {
          "name": "stderr",
          "output_type": "stream",
          "text": [
            "All model checkpoint layers were used when initializing TFBertForTokenClassification.\n",
            "\n",
            "Some layers of TFBertForTokenClassification were not initialized from the model checkpoint at bert-base-uncased and are newly initialized: ['classifier']\n",
            "You should probably TRAIN this model on a down-stream task to be able to use it for predictions and inference.\n"
          ]
        },
        {
          "name": "stdout",
          "output_type": "stream",
          "text": [
            "Model: \"tf_bert_for_token_classification\"\n",
            "_________________________________________________________________\n",
            " Layer (type)                Output Shape              Param #   \n",
            "=================================================================\n",
            " bert (TFBertMainLayer)      multiple                  108891648 \n",
            "                                                                 \n",
            " dropout_37 (Dropout)        multiple                  0         \n",
            "                                                                 \n",
            " classifier (Dense)          multiple                  16918     \n",
            "                                                                 \n",
            "=================================================================\n",
            "Total params: 108,908,566\n",
            "Trainable params: 108,908,566\n",
            "Non-trainable params: 0\n",
            "_________________________________________________________________\n"
          ]
        }
      ],
      "source": [
        "config = AutoConfig.from_pretrained(MODEL_NAME, num_labels=len(schema),\n",
        "                                    id2tag=id2tag, tag2id=tag2id) # Bert config\n",
        "\n",
        "model = TFAutoModelForTokenClassification.from_pretrained(MODEL_NAME,\n",
        "                                                          config=config) # Loading Bert model\n",
        "model.summary()"
      ]
    },
    {
      "cell_type": "markdown",
      "metadata": {
        "id": "IKuaEduTC2Aw"
      },
      "source": [
        "### Fit model on training data"
      ]
    },
    {
      "cell_type": "code",
      "execution_count": null,
      "metadata": {
        "colab": {
          "base_uri": "https://localhost:8080/"
        },
        "id": "keBv0b8xkBxL",
        "outputId": "bf9e8c95-9240-47eb-beac-d31b3884166a"
      },
      "outputs": [
        {
          "name": "stdout",
          "output_type": "stream",
          "text": [
            "Epoch 1/10\n",
            "157/157 [==============================] - 188s 1s/step - loss: 0.1666 - accuracy: 0.9630 - val_loss: 0.0701 - val_accuracy: 0.9845\n",
            "Epoch 2/10\n",
            "157/157 [==============================] - 171s 1s/step - loss: 0.0495 - accuracy: 0.9888 - val_loss: 0.0497 - val_accuracy: 0.9879\n",
            "Epoch 3/10\n",
            "157/157 [==============================] - 172s 1s/step - loss: 0.0311 - accuracy: 0.9919 - val_loss: 0.0432 - val_accuracy: 0.9891\n",
            "Epoch 4/10\n",
            "157/157 [==============================] - 172s 1s/step - loss: 0.0211 - accuracy: 0.9942 - val_loss: 0.0434 - val_accuracy: 0.9900\n",
            "Epoch 5/10\n",
            "157/157 [==============================] - 172s 1s/step - loss: 0.0142 - accuracy: 0.9963 - val_loss: 0.0416 - val_accuracy: 0.9911\n",
            "Epoch 6/10\n",
            "157/157 [==============================] - 172s 1s/step - loss: 0.0096 - accuracy: 0.9975 - val_loss: 0.0408 - val_accuracy: 0.9914\n",
            "Epoch 7/10\n",
            "157/157 [==============================] - 172s 1s/step - loss: 0.0068 - accuracy: 0.9984 - val_loss: 0.0448 - val_accuracy: 0.9913\n",
            "Epoch 8/10\n",
            "157/157 [==============================] - 172s 1s/step - loss: 0.0054 - accuracy: 0.9987 - val_loss: 0.0437 - val_accuracy: 0.9907\n",
            "Epoch 9/10\n",
            "157/157 [==============================] - 172s 1s/step - loss: 0.0042 - accuracy: 0.9990 - val_loss: 0.0465 - val_accuracy: 0.9913\n",
            "Epoch 10/10\n",
            "157/157 [==============================] - 172s 1s/step - loss: 0.0042 - accuracy: 0.9989 - val_loss: 0.0489 - val_accuracy: 0.9911\n"
          ]
        }
      ],
      "source": [
        "BATCH_SIZE=32\n",
        "\n",
        "optimizer = tf.keras.optimizers.Adam(learning_rate=0.0001) # Creating optimizer\n",
        "\n",
        "loss = tf.keras.losses.SparseCategoricalCrossentropy(from_logits=True)\n",
        "metric = tf.keras.metrics.SparseCategoricalAccuracy('accuracy')\n",
        "\n",
        "model.compile(optimizer=optimizer, loss=loss, metrics=metric)\n",
        "\n",
        "history = model.fit(X_train, y_train,\n",
        "                  validation_split=0.2, epochs=10,\n",
        "                  batch_size=BATCH_SIZE)"
      ]
    },
    {
      "cell_type": "markdown",
      "metadata": {
        "id": "V-klF3SGnIJ7"
      },
      "source": [
        "- Lets have a side by side view of true labels and model predictions\n",
        "- Arranged as an array of Tuple(token, true label, model prediction)"
      ]
    },
    {
      "cell_type": "code",
      "execution_count": null,
      "metadata": {
        "colab": {
          "base_uri": "https://localhost:8080/"
        },
        "id": "up3p91b8kBu-",
        "outputId": "cbf5e925-b513-477d-87b1-c40af24d135d"
      },
      "outputs": [
        {
          "name": "stdout",
          "output_type": "stream",
          "text": [
            "121/121 [==============================] - 44s 335ms/step\n"
          ]
        }
      ],
      "source": [
        "def aggregate(sample, predictions):\n",
        "  results = []\n",
        "  i = 1\n",
        "  for token, y_true in sample:\n",
        "      nr_subtoken = len(tokenizer(token.lower())['input_ids']) - 2 # Extracting word tokens\n",
        "      pred = predictions[i:i+nr_subtoken] # Extracting predictions\n",
        "      i += nr_subtoken\n",
        "      y_pred = schema[np.argmax(np.sum(pred, axis=0))] # Get label of prediction\n",
        "      results.append((token, y_true, y_pred))\n",
        "  return results\n",
        "\n",
        "y_probs = model.predict(X_test)[0]\n",
        "predictions = [aggregate(sample, predictions)\n",
        "               for sample, predictions in zip(test_samples, y_probs)]"
      ]
    },
    {
      "cell_type": "code",
      "execution_count": null,
      "metadata": {
        "colab": {
          "base_uri": "https://localhost:8080/"
        },
        "id": "F3s_LcZLkBrX",
        "outputId": "28e5e75e-d9cf-41f7-b34c-715776c45be1"
      },
      "outputs": [
        {
          "name": "stdout",
          "output_type": "stream",
          "text": [
            "[('I', 'O', 'O'), ('drive', 'O', 'O'), ('by', 'O', 'O'), ('that', 'O', 'O'), ('motel', 'O', 'O'), ('almost', 'O', 'O'), ('every', 'O', 'O'), ('night', 'O', 'O'), ('.', 'O', 'O'), ('#MesaShooting', 'O', 'O')]\n",
            "[('Apple', 'B-product', 'B-product'), ('MacBook', 'I-product', 'I-product'), ('Pro', 'I-product', 'I-product'), ('A1278', 'I-product', 'I-product'), ('13.3', 'I-product', 'I-product'), ('\"', 'I-product', 'I-product'), ('Laptop', 'I-product', 'I-product'), ('-', 'I-product', 'I-product'), ('MD101LL/A', 'I-product', 'I-product'), ('(', 'O', 'O'), ('June', 'O', 'O'), (',', 'O', 'O'), ('2012', 'O', 'O'), (')', 'O', 'O'), ('-', 'O', 'O'), ('Full', 'O', 'O'), ('read', 'O', 'O'), ('by', 'O', 'O'), ('eBay', 'B-company', 'B-company'), ('http://t.co/2zgQ99nmuf', 'O', 'O'), ('http://t.co/eQmogqqABK', 'O', 'O')]\n",
            "[('Tuff', 'B-musicartist', 'B-musicartist'), ('Culture', 'I-musicartist', 'I-musicartist'), ('-', 'O', 'O'), ('Destiny', 'B-product', 'B-product'), ('EP', 'O', 'O'), ('(', 'O', 'O'), ('PAR', 'O', 'O'), ('042', 'O', 'O'), ('FORTHCOMING', 'O', 'O'), ('27th', 'O', 'O'), ('JULY', 'O', 'O'), ('VIA', 'O', 'O'), ('JUNO', 'B-product', 'B-product'), (')', 'O', 'O'), ('Tracklist', 'O', 'O'), (':', 'O', 'O'), ('Destiny', 'B-product', 'B-product'), ('Questions', 'B-product', 'B-product'), ('Theres', 'B-product', 'B-product'), ('No', 'I-product', 'I-product'), ('...', 'O', 'O'), ('http://t.co/X7nL8DiREK', 'O', 'O')]\n",
            "[('December', 'O', 'O'), ('23', 'O', 'O'), (',', 'O', 'O'), ('2015', 'O', 'O'), ('at', 'O', 'O'), ('03:44', 'O', 'O'), ('PM', 'O', 'O'), ('#if24', 'O', 'O'), ('#s8', 'O', 'O')]\n",
            "[('RT', 'O', 'O'), ('@YahooDrSaturday', 'O', 'O'), (':', 'O', 'O'), ('This', 'O', 'O'), ('is', 'O', 'O'), ('how', 'O', 'O'), ('Arkansas', 'B-sportsteam', 'B-sportsteam'), ('crazily', 'O', 'O'), ('converted', 'O', 'O'), ('4th', 'O', 'O'), ('and', 'O', 'O'), ('25', 'O', 'O'), ('in', 'O', 'O'), ('OT', 'O', 'O'), ('.', 'O', 'O'), ('What', 'O', 'O'), ('a', 'O', 'O'), ('lateral', 'O', 'O'), ('!', 'O', 'O'), ('https://t.co/ylALEACWe8', 'O', 'O')]\n"
          ]
        }
      ],
      "source": [
        "for i in range(10,15):\n",
        "  print(predictions[i])"
      ]
    },
    {
      "cell_type": "code",
      "execution_count": null,
      "metadata": {
        "id": "iFq-TAnGKR2d"
      },
      "outputs": [],
      "source": [
        "def tokenize_bert(sentence):\n",
        "  sentence_tokens = tokenizer(sentence.split(' '))['input_ids'] # Splitting sentence into word tokens\n",
        "  ner_tokens = [3] # Start token\n",
        "  for word_token in sentence_tokens:\n",
        "    ner_tokens.extend(word_token[1:-1]) # Adding tokenized word token indicies\n",
        "  ner_tokens += [4] # End token\n",
        "  return ner_tokens"
      ]
    },
    {
      "cell_type": "code",
      "execution_count": null,
      "metadata": {
        "id": "THODX33pFcuG"
      },
      "outputs": [],
      "source": [
        "sentence =\"apple macbook pro is the best laptop in the world\"\n",
        "\n",
        "# Bert tokenization\n",
        "bert_tokens = tokenize_bert(sentence)\n"
      ]
    },
    {
      "cell_type": "markdown",
      "metadata": {
        "id": "muDThgUqoniN"
      },
      "source": [
        "#### Bert Output"
      ]
    },
    {
      "cell_type": "code",
      "execution_count": null,
      "metadata": {
        "colab": {
          "base_uri": "https://localhost:8080/"
        },
        "id": "wNzFXO3STMJl",
        "outputId": "87ec5d26-b569-45fd-cdf4-67ab45e205ce"
      },
      "outputs": [
        {
          "data": {
            "text/plain": [
              "[('apple', 'B-product'),\n",
              " ('macbook', 'I-product'),\n",
              " ('pro', 'I-product'),\n",
              " ('is', 'O'),\n",
              " ('the', 'O'),\n",
              " ('best', 'O'),\n",
              " ('laptop', 'O'),\n",
              " ('in', 'O'),\n",
              " ('the', 'O'),\n",
              " ('world', 'O')]"
            ]
          },
          "execution_count": 30,
          "metadata": {},
          "output_type": "execute_result"
        }
      ],
      "source": [
        "def align_labels_to_input(sentence, predictions):\n",
        "  sentence_tokens = sentence.lower().split(\" \")\n",
        "  results = []\n",
        "\n",
        "  i = 1\n",
        "  # Extracting labels corresponding to tokens\n",
        "  for token in sentence_tokens:\n",
        "      nr_subtoken = len(tokenizer(token)['input_ids']) - 2\n",
        "      pred = predictions[i:i+nr_subtoken]\n",
        "      i += nr_subtoken\n",
        "      y_pred = id2tag[np.argmax(np.sum(pred, axis=0))]\n",
        "      results.append((token, y_pred))\n",
        "  return results\n",
        "\n",
        "\n",
        "bert_logits = model.predict([bert_tokens], verbose=0).logits\n",
        "\n",
        "align_labels_to_input(sentence, bert_logits[0])"
      ]
    }
  ],
  "metadata": {
    "accelerator": "GPU",
    "colab": {
      "provenance": []
    },
    "gpuClass": "standard",
    "kernelspec": {
      "display_name": "Python 3",
      "name": "python3"
    },
    "language_info": {
      "name": "python"
    },
    "widgets": {
      "application/vnd.jupyter.widget-state+json": {
        "1ba810f7499f4c78958d1ecdb087a663": {
          "model_module": "@jupyter-widgets/controls",
          "model_module_version": "1.5.0",
          "model_name": "DescriptionStyleModel",
          "state": {
            "_model_module": "@jupyter-widgets/controls",
            "_model_module_version": "1.5.0",
            "_model_name": "DescriptionStyleModel",
            "_view_count": null,
            "_view_module": "@jupyter-widgets/base",
            "_view_module_version": "1.2.0",
            "_view_name": "StyleView",
            "description_width": ""
          }
        },
        "1cc2ce38bdbd487cb20993fcce404f31": {
          "model_module": "@jupyter-widgets/controls",
          "model_module_version": "1.5.0",
          "model_name": "FloatProgressModel",
          "state": {
            "_dom_classes": [],
            "_model_module": "@jupyter-widgets/controls",
            "_model_module_version": "1.5.0",
            "_model_name": "FloatProgressModel",
            "_view_count": null,
            "_view_module": "@jupyter-widgets/controls",
            "_view_module_version": "1.5.0",
            "_view_name": "ProgressView",
            "bar_style": "success",
            "description": "",
            "description_tooltip": null,
            "layout": "IPY_MODEL_f601dbfe6f4942b3b0dc1fbdd81494b4",
            "max": 570,
            "min": 0,
            "orientation": "horizontal",
            "style": "IPY_MODEL_829fa22c2740483e937646d2d13cdb94",
            "value": 570
          }
        },
        "1ee31808432944d695ee0e3f690ece20": {
          "model_module": "@jupyter-widgets/controls",
          "model_module_version": "1.5.0",
          "model_name": "HTMLModel",
          "state": {
            "_dom_classes": [],
            "_model_module": "@jupyter-widgets/controls",
            "_model_module_version": "1.5.0",
            "_model_name": "HTMLModel",
            "_view_count": null,
            "_view_module": "@jupyter-widgets/controls",
            "_view_module_version": "1.5.0",
            "_view_name": "HTMLView",
            "description": "",
            "description_tooltip": null,
            "layout": "IPY_MODEL_526cc82330f846f6b8c0a6c97a7b53e7",
            "placeholder": "​",
            "style": "IPY_MODEL_7f4e4262e64b421cba570974a0af4959",
            "value": "Downloading: 100%"
          }
        },
        "2417cc9e8c86487dbc779ec9f7129edc": {
          "model_module": "@jupyter-widgets/base",
          "model_module_version": "1.2.0",
          "model_name": "LayoutModel",
          "state": {
            "_model_module": "@jupyter-widgets/base",
            "_model_module_version": "1.2.0",
            "_model_name": "LayoutModel",
            "_view_count": null,
            "_view_module": "@jupyter-widgets/base",
            "_view_module_version": "1.2.0",
            "_view_name": "LayoutView",
            "align_content": null,
            "align_items": null,
            "align_self": null,
            "border": null,
            "bottom": null,
            "display": null,
            "flex": null,
            "flex_flow": null,
            "grid_area": null,
            "grid_auto_columns": null,
            "grid_auto_flow": null,
            "grid_auto_rows": null,
            "grid_column": null,
            "grid_gap": null,
            "grid_row": null,
            "grid_template_areas": null,
            "grid_template_columns": null,
            "grid_template_rows": null,
            "height": null,
            "justify_content": null,
            "justify_items": null,
            "left": null,
            "margin": null,
            "max_height": null,
            "max_width": null,
            "min_height": null,
            "min_width": null,
            "object_fit": null,
            "object_position": null,
            "order": null,
            "overflow": null,
            "overflow_x": null,
            "overflow_y": null,
            "padding": null,
            "right": null,
            "top": null,
            "visibility": null,
            "width": null
          }
        },
        "29208a241daf47be86bbdbfb0af44e16": {
          "model_module": "@jupyter-widgets/base",
          "model_module_version": "1.2.0",
          "model_name": "LayoutModel",
          "state": {
            "_model_module": "@jupyter-widgets/base",
            "_model_module_version": "1.2.0",
            "_model_name": "LayoutModel",
            "_view_count": null,
            "_view_module": "@jupyter-widgets/base",
            "_view_module_version": "1.2.0",
            "_view_name": "LayoutView",
            "align_content": null,
            "align_items": null,
            "align_self": null,
            "border": null,
            "bottom": null,
            "display": null,
            "flex": null,
            "flex_flow": null,
            "grid_area": null,
            "grid_auto_columns": null,
            "grid_auto_flow": null,
            "grid_auto_rows": null,
            "grid_column": null,
            "grid_gap": null,
            "grid_row": null,
            "grid_template_areas": null,
            "grid_template_columns": null,
            "grid_template_rows": null,
            "height": null,
            "justify_content": null,
            "justify_items": null,
            "left": null,
            "margin": null,
            "max_height": null,
            "max_width": null,
            "min_height": null,
            "min_width": null,
            "object_fit": null,
            "object_position": null,
            "order": null,
            "overflow": null,
            "overflow_x": null,
            "overflow_y": null,
            "padding": null,
            "right": null,
            "top": null,
            "visibility": null,
            "width": null
          }
        },
        "295da648a4d843fdb314916b25aff556": {
          "model_module": "@jupyter-widgets/controls",
          "model_module_version": "1.5.0",
          "model_name": "DescriptionStyleModel",
          "state": {
            "_model_module": "@jupyter-widgets/controls",
            "_model_module_version": "1.5.0",
            "_model_name": "DescriptionStyleModel",
            "_view_count": null,
            "_view_module": "@jupyter-widgets/base",
            "_view_module_version": "1.2.0",
            "_view_name": "StyleView",
            "description_width": ""
          }
        },
        "2a70efd4005f4d64bdf0a89f3bd45237": {
          "model_module": "@jupyter-widgets/controls",
          "model_module_version": "1.5.0",
          "model_name": "ProgressStyleModel",
          "state": {
            "_model_module": "@jupyter-widgets/controls",
            "_model_module_version": "1.5.0",
            "_model_name": "ProgressStyleModel",
            "_view_count": null,
            "_view_module": "@jupyter-widgets/base",
            "_view_module_version": "1.2.0",
            "_view_name": "StyleView",
            "bar_color": null,
            "description_width": ""
          }
        },
        "2ff5b0631be74fb9b06f72f1ee1d4b8e": {
          "model_module": "@jupyter-widgets/base",
          "model_module_version": "1.2.0",
          "model_name": "LayoutModel",
          "state": {
            "_model_module": "@jupyter-widgets/base",
            "_model_module_version": "1.2.0",
            "_model_name": "LayoutModel",
            "_view_count": null,
            "_view_module": "@jupyter-widgets/base",
            "_view_module_version": "1.2.0",
            "_view_name": "LayoutView",
            "align_content": null,
            "align_items": null,
            "align_self": null,
            "border": null,
            "bottom": null,
            "display": null,
            "flex": null,
            "flex_flow": null,
            "grid_area": null,
            "grid_auto_columns": null,
            "grid_auto_flow": null,
            "grid_auto_rows": null,
            "grid_column": null,
            "grid_gap": null,
            "grid_row": null,
            "grid_template_areas": null,
            "grid_template_columns": null,
            "grid_template_rows": null,
            "height": null,
            "justify_content": null,
            "justify_items": null,
            "left": null,
            "margin": null,
            "max_height": null,
            "max_width": null,
            "min_height": null,
            "min_width": null,
            "object_fit": null,
            "object_position": null,
            "order": null,
            "overflow": null,
            "overflow_x": null,
            "overflow_y": null,
            "padding": null,
            "right": null,
            "top": null,
            "visibility": null,
            "width": null
          }
        },
        "305bf2f6320e4a2cb556df7d9808f4a1": {
          "model_module": "@jupyter-widgets/base",
          "model_module_version": "1.2.0",
          "model_name": "LayoutModel",
          "state": {
            "_model_module": "@jupyter-widgets/base",
            "_model_module_version": "1.2.0",
            "_model_name": "LayoutModel",
            "_view_count": null,
            "_view_module": "@jupyter-widgets/base",
            "_view_module_version": "1.2.0",
            "_view_name": "LayoutView",
            "align_content": null,
            "align_items": null,
            "align_self": null,
            "border": null,
            "bottom": null,
            "display": null,
            "flex": null,
            "flex_flow": null,
            "grid_area": null,
            "grid_auto_columns": null,
            "grid_auto_flow": null,
            "grid_auto_rows": null,
            "grid_column": null,
            "grid_gap": null,
            "grid_row": null,
            "grid_template_areas": null,
            "grid_template_columns": null,
            "grid_template_rows": null,
            "height": null,
            "justify_content": null,
            "justify_items": null,
            "left": null,
            "margin": null,
            "max_height": null,
            "max_width": null,
            "min_height": null,
            "min_width": null,
            "object_fit": null,
            "object_position": null,
            "order": null,
            "overflow": null,
            "overflow_x": null,
            "overflow_y": null,
            "padding": null,
            "right": null,
            "top": null,
            "visibility": null,
            "width": null
          }
        },
        "313261169d654e58919b7aef462e463d": {
          "model_module": "@jupyter-widgets/base",
          "model_module_version": "1.2.0",
          "model_name": "LayoutModel",
          "state": {
            "_model_module": "@jupyter-widgets/base",
            "_model_module_version": "1.2.0",
            "_model_name": "LayoutModel",
            "_view_count": null,
            "_view_module": "@jupyter-widgets/base",
            "_view_module_version": "1.2.0",
            "_view_name": "LayoutView",
            "align_content": null,
            "align_items": null,
            "align_self": null,
            "border": null,
            "bottom": null,
            "display": null,
            "flex": null,
            "flex_flow": null,
            "grid_area": null,
            "grid_auto_columns": null,
            "grid_auto_flow": null,
            "grid_auto_rows": null,
            "grid_column": null,
            "grid_gap": null,
            "grid_row": null,
            "grid_template_areas": null,
            "grid_template_columns": null,
            "grid_template_rows": null,
            "height": null,
            "justify_content": null,
            "justify_items": null,
            "left": null,
            "margin": null,
            "max_height": null,
            "max_width": null,
            "min_height": null,
            "min_width": null,
            "object_fit": null,
            "object_position": null,
            "order": null,
            "overflow": null,
            "overflow_x": null,
            "overflow_y": null,
            "padding": null,
            "right": null,
            "top": null,
            "visibility": null,
            "width": null
          }
        },
        "336e1ab49b1444cba3253b0add5508f3": {
          "model_module": "@jupyter-widgets/controls",
          "model_module_version": "1.5.0",
          "model_name": "HBoxModel",
          "state": {
            "_dom_classes": [],
            "_model_module": "@jupyter-widgets/controls",
            "_model_module_version": "1.5.0",
            "_model_name": "HBoxModel",
            "_view_count": null,
            "_view_module": "@jupyter-widgets/controls",
            "_view_module_version": "1.5.0",
            "_view_name": "HBoxView",
            "box_style": "",
            "children": [
              "IPY_MODEL_6c1bcf53d91948a68395ef78e8c2a1ee",
              "IPY_MODEL_ed559b687e244a1384a5cb68db7747db",
              "IPY_MODEL_cc1d0be9c0284d8087f5c38fd4a91439"
            ],
            "layout": "IPY_MODEL_72997e3d7ed448ce8006ee46d8659d3d"
          }
        },
        "3448e78739e24512942dddae8fb50a92": {
          "model_module": "@jupyter-widgets/controls",
          "model_module_version": "1.5.0",
          "model_name": "HTMLModel",
          "state": {
            "_dom_classes": [],
            "_model_module": "@jupyter-widgets/controls",
            "_model_module_version": "1.5.0",
            "_model_name": "HTMLModel",
            "_view_count": null,
            "_view_module": "@jupyter-widgets/controls",
            "_view_module_version": "1.5.0",
            "_view_name": "HTMLView",
            "description": "",
            "description_tooltip": null,
            "layout": "IPY_MODEL_59299b5c1f5e4215b6a26d9502168921",
            "placeholder": "​",
            "style": "IPY_MODEL_3fc00e3743fc453984d4b1677127fe07",
            "value": "Downloading: 100%"
          }
        },
        "3774503a38ef4f0faba837cdb5d4bf22": {
          "model_module": "@jupyter-widgets/base",
          "model_module_version": "1.2.0",
          "model_name": "LayoutModel",
          "state": {
            "_model_module": "@jupyter-widgets/base",
            "_model_module_version": "1.2.0",
            "_model_name": "LayoutModel",
            "_view_count": null,
            "_view_module": "@jupyter-widgets/base",
            "_view_module_version": "1.2.0",
            "_view_name": "LayoutView",
            "align_content": null,
            "align_items": null,
            "align_self": null,
            "border": null,
            "bottom": null,
            "display": null,
            "flex": null,
            "flex_flow": null,
            "grid_area": null,
            "grid_auto_columns": null,
            "grid_auto_flow": null,
            "grid_auto_rows": null,
            "grid_column": null,
            "grid_gap": null,
            "grid_row": null,
            "grid_template_areas": null,
            "grid_template_columns": null,
            "grid_template_rows": null,
            "height": null,
            "justify_content": null,
            "justify_items": null,
            "left": null,
            "margin": null,
            "max_height": null,
            "max_width": null,
            "min_height": null,
            "min_width": null,
            "object_fit": null,
            "object_position": null,
            "order": null,
            "overflow": null,
            "overflow_x": null,
            "overflow_y": null,
            "padding": null,
            "right": null,
            "top": null,
            "visibility": null,
            "width": null
          }
        },
        "3bf3dc1a1ada45e99e2a427d85f0a4bf": {
          "model_module": "@jupyter-widgets/base",
          "model_module_version": "1.2.0",
          "model_name": "LayoutModel",
          "state": {
            "_model_module": "@jupyter-widgets/base",
            "_model_module_version": "1.2.0",
            "_model_name": "LayoutModel",
            "_view_count": null,
            "_view_module": "@jupyter-widgets/base",
            "_view_module_version": "1.2.0",
            "_view_name": "LayoutView",
            "align_content": null,
            "align_items": null,
            "align_self": null,
            "border": null,
            "bottom": null,
            "display": null,
            "flex": null,
            "flex_flow": null,
            "grid_area": null,
            "grid_auto_columns": null,
            "grid_auto_flow": null,
            "grid_auto_rows": null,
            "grid_column": null,
            "grid_gap": null,
            "grid_row": null,
            "grid_template_areas": null,
            "grid_template_columns": null,
            "grid_template_rows": null,
            "height": null,
            "justify_content": null,
            "justify_items": null,
            "left": null,
            "margin": null,
            "max_height": null,
            "max_width": null,
            "min_height": null,
            "min_width": null,
            "object_fit": null,
            "object_position": null,
            "order": null,
            "overflow": null,
            "overflow_x": null,
            "overflow_y": null,
            "padding": null,
            "right": null,
            "top": null,
            "visibility": null,
            "width": null
          }
        },
        "3fc00e3743fc453984d4b1677127fe07": {
          "model_module": "@jupyter-widgets/controls",
          "model_module_version": "1.5.0",
          "model_name": "DescriptionStyleModel",
          "state": {
            "_model_module": "@jupyter-widgets/controls",
            "_model_module_version": "1.5.0",
            "_model_name": "DescriptionStyleModel",
            "_view_count": null,
            "_view_module": "@jupyter-widgets/base",
            "_view_module_version": "1.2.0",
            "_view_name": "StyleView",
            "description_width": ""
          }
        },
        "40188b7a4a994da8924692f026dd7cd5": {
          "model_module": "@jupyter-widgets/controls",
          "model_module_version": "1.5.0",
          "model_name": "HTMLModel",
          "state": {
            "_dom_classes": [],
            "_model_module": "@jupyter-widgets/controls",
            "_model_module_version": "1.5.0",
            "_model_name": "HTMLModel",
            "_view_count": null,
            "_view_module": "@jupyter-widgets/controls",
            "_view_module_version": "1.5.0",
            "_view_name": "HTMLView",
            "description": "",
            "description_tooltip": null,
            "layout": "IPY_MODEL_2417cc9e8c86487dbc779ec9f7129edc",
            "placeholder": "​",
            "style": "IPY_MODEL_bbb6f3b659b74faf99e817bf68cf6614",
            "value": "Downloading: 100%"
          }
        },
        "40286f138e1b467eabd1f39be41cfcc2": {
          "model_module": "@jupyter-widgets/controls",
          "model_module_version": "1.5.0",
          "model_name": "HTMLModel",
          "state": {
            "_dom_classes": [],
            "_model_module": "@jupyter-widgets/controls",
            "_model_module_version": "1.5.0",
            "_model_name": "HTMLModel",
            "_view_count": null,
            "_view_module": "@jupyter-widgets/controls",
            "_view_module_version": "1.5.0",
            "_view_name": "HTMLView",
            "description": "",
            "description_tooltip": null,
            "layout": "IPY_MODEL_d9e63ba3c54f4332a7e7d4f8bfebeb25",
            "placeholder": "​",
            "style": "IPY_MODEL_cc852f2ac21e43e0bd22ea2785e2241f",
            "value": "Downloading: 100%"
          }
        },
        "443a12a9e85243c997f1223a57f00634": {
          "model_module": "@jupyter-widgets/controls",
          "model_module_version": "1.5.0",
          "model_name": "ProgressStyleModel",
          "state": {
            "_model_module": "@jupyter-widgets/controls",
            "_model_module_version": "1.5.0",
            "_model_name": "ProgressStyleModel",
            "_view_count": null,
            "_view_module": "@jupyter-widgets/base",
            "_view_module_version": "1.2.0",
            "_view_name": "StyleView",
            "bar_color": null,
            "description_width": ""
          }
        },
        "4c6c829f459545a2a913b9232ed446f6": {
          "model_module": "@jupyter-widgets/controls",
          "model_module_version": "1.5.0",
          "model_name": "FloatProgressModel",
          "state": {
            "_dom_classes": [],
            "_model_module": "@jupyter-widgets/controls",
            "_model_module_version": "1.5.0",
            "_model_name": "FloatProgressModel",
            "_view_count": null,
            "_view_module": "@jupyter-widgets/controls",
            "_view_module_version": "1.5.0",
            "_view_name": "ProgressView",
            "bar_style": "success",
            "description": "",
            "description_tooltip": null,
            "layout": "IPY_MODEL_2ff5b0631be74fb9b06f72f1ee1d4b8e",
            "max": 231508,
            "min": 0,
            "orientation": "horizontal",
            "style": "IPY_MODEL_443a12a9e85243c997f1223a57f00634",
            "value": 231508
          }
        },
        "526cc82330f846f6b8c0a6c97a7b53e7": {
          "model_module": "@jupyter-widgets/base",
          "model_module_version": "1.2.0",
          "model_name": "LayoutModel",
          "state": {
            "_model_module": "@jupyter-widgets/base",
            "_model_module_version": "1.2.0",
            "_model_name": "LayoutModel",
            "_view_count": null,
            "_view_module": "@jupyter-widgets/base",
            "_view_module_version": "1.2.0",
            "_view_name": "LayoutView",
            "align_content": null,
            "align_items": null,
            "align_self": null,
            "border": null,
            "bottom": null,
            "display": null,
            "flex": null,
            "flex_flow": null,
            "grid_area": null,
            "grid_auto_columns": null,
            "grid_auto_flow": null,
            "grid_auto_rows": null,
            "grid_column": null,
            "grid_gap": null,
            "grid_row": null,
            "grid_template_areas": null,
            "grid_template_columns": null,
            "grid_template_rows": null,
            "height": null,
            "justify_content": null,
            "justify_items": null,
            "left": null,
            "margin": null,
            "max_height": null,
            "max_width": null,
            "min_height": null,
            "min_width": null,
            "object_fit": null,
            "object_position": null,
            "order": null,
            "overflow": null,
            "overflow_x": null,
            "overflow_y": null,
            "padding": null,
            "right": null,
            "top": null,
            "visibility": null,
            "width": null
          }
        },
        "53c31e0475d642c6bc115a1ef4fe3b1e": {
          "model_module": "@jupyter-widgets/controls",
          "model_module_version": "1.5.0",
          "model_name": "HTMLModel",
          "state": {
            "_dom_classes": [],
            "_model_module": "@jupyter-widgets/controls",
            "_model_module_version": "1.5.0",
            "_model_name": "HTMLModel",
            "_view_count": null,
            "_view_module": "@jupyter-widgets/controls",
            "_view_module_version": "1.5.0",
            "_view_name": "HTMLView",
            "description": "",
            "description_tooltip": null,
            "layout": "IPY_MODEL_313261169d654e58919b7aef462e463d",
            "placeholder": "​",
            "style": "IPY_MODEL_295da648a4d843fdb314916b25aff556",
            "value": " 232k/232k [00:00&lt;00:00, 6.52MB/s]"
          }
        },
        "59299b5c1f5e4215b6a26d9502168921": {
          "model_module": "@jupyter-widgets/base",
          "model_module_version": "1.2.0",
          "model_name": "LayoutModel",
          "state": {
            "_model_module": "@jupyter-widgets/base",
            "_model_module_version": "1.2.0",
            "_model_name": "LayoutModel",
            "_view_count": null,
            "_view_module": "@jupyter-widgets/base",
            "_view_module_version": "1.2.0",
            "_view_name": "LayoutView",
            "align_content": null,
            "align_items": null,
            "align_self": null,
            "border": null,
            "bottom": null,
            "display": null,
            "flex": null,
            "flex_flow": null,
            "grid_area": null,
            "grid_auto_columns": null,
            "grid_auto_flow": null,
            "grid_auto_rows": null,
            "grid_column": null,
            "grid_gap": null,
            "grid_row": null,
            "grid_template_areas": null,
            "grid_template_columns": null,
            "grid_template_rows": null,
            "height": null,
            "justify_content": null,
            "justify_items": null,
            "left": null,
            "margin": null,
            "max_height": null,
            "max_width": null,
            "min_height": null,
            "min_width": null,
            "object_fit": null,
            "object_position": null,
            "order": null,
            "overflow": null,
            "overflow_x": null,
            "overflow_y": null,
            "padding": null,
            "right": null,
            "top": null,
            "visibility": null,
            "width": null
          }
        },
        "65165bf5460048a596e22e80b329b93b": {
          "model_module": "@jupyter-widgets/base",
          "model_module_version": "1.2.0",
          "model_name": "LayoutModel",
          "state": {
            "_model_module": "@jupyter-widgets/base",
            "_model_module_version": "1.2.0",
            "_model_name": "LayoutModel",
            "_view_count": null,
            "_view_module": "@jupyter-widgets/base",
            "_view_module_version": "1.2.0",
            "_view_name": "LayoutView",
            "align_content": null,
            "align_items": null,
            "align_self": null,
            "border": null,
            "bottom": null,
            "display": null,
            "flex": null,
            "flex_flow": null,
            "grid_area": null,
            "grid_auto_columns": null,
            "grid_auto_flow": null,
            "grid_auto_rows": null,
            "grid_column": null,
            "grid_gap": null,
            "grid_row": null,
            "grid_template_areas": null,
            "grid_template_columns": null,
            "grid_template_rows": null,
            "height": null,
            "justify_content": null,
            "justify_items": null,
            "left": null,
            "margin": null,
            "max_height": null,
            "max_width": null,
            "min_height": null,
            "min_width": null,
            "object_fit": null,
            "object_position": null,
            "order": null,
            "overflow": null,
            "overflow_x": null,
            "overflow_y": null,
            "padding": null,
            "right": null,
            "top": null,
            "visibility": null,
            "width": null
          }
        },
        "687b642741ae411c9defcadf3ffff0c4": {
          "model_module": "@jupyter-widgets/base",
          "model_module_version": "1.2.0",
          "model_name": "LayoutModel",
          "state": {
            "_model_module": "@jupyter-widgets/base",
            "_model_module_version": "1.2.0",
            "_model_name": "LayoutModel",
            "_view_count": null,
            "_view_module": "@jupyter-widgets/base",
            "_view_module_version": "1.2.0",
            "_view_name": "LayoutView",
            "align_content": null,
            "align_items": null,
            "align_self": null,
            "border": null,
            "bottom": null,
            "display": null,
            "flex": null,
            "flex_flow": null,
            "grid_area": null,
            "grid_auto_columns": null,
            "grid_auto_flow": null,
            "grid_auto_rows": null,
            "grid_column": null,
            "grid_gap": null,
            "grid_row": null,
            "grid_template_areas": null,
            "grid_template_columns": null,
            "grid_template_rows": null,
            "height": null,
            "justify_content": null,
            "justify_items": null,
            "left": null,
            "margin": null,
            "max_height": null,
            "max_width": null,
            "min_height": null,
            "min_width": null,
            "object_fit": null,
            "object_position": null,
            "order": null,
            "overflow": null,
            "overflow_x": null,
            "overflow_y": null,
            "padding": null,
            "right": null,
            "top": null,
            "visibility": null,
            "width": null
          }
        },
        "6c1bcf53d91948a68395ef78e8c2a1ee": {
          "model_module": "@jupyter-widgets/controls",
          "model_module_version": "1.5.0",
          "model_name": "HTMLModel",
          "state": {
            "_dom_classes": [],
            "_model_module": "@jupyter-widgets/controls",
            "_model_module_version": "1.5.0",
            "_model_name": "HTMLModel",
            "_view_count": null,
            "_view_module": "@jupyter-widgets/controls",
            "_view_module_version": "1.5.0",
            "_view_name": "HTMLView",
            "description": "",
            "description_tooltip": null,
            "layout": "IPY_MODEL_305bf2f6320e4a2cb556df7d9808f4a1",
            "placeholder": "​",
            "style": "IPY_MODEL_ca430281412b439c8bdb105ac9dc6fca",
            "value": "Downloading: 100%"
          }
        },
        "6c98a5a953e54c2f810c26bd66480db2": {
          "model_module": "@jupyter-widgets/base",
          "model_module_version": "1.2.0",
          "model_name": "LayoutModel",
          "state": {
            "_model_module": "@jupyter-widgets/base",
            "_model_module_version": "1.2.0",
            "_model_name": "LayoutModel",
            "_view_count": null,
            "_view_module": "@jupyter-widgets/base",
            "_view_module_version": "1.2.0",
            "_view_name": "LayoutView",
            "align_content": null,
            "align_items": null,
            "align_self": null,
            "border": null,
            "bottom": null,
            "display": null,
            "flex": null,
            "flex_flow": null,
            "grid_area": null,
            "grid_auto_columns": null,
            "grid_auto_flow": null,
            "grid_auto_rows": null,
            "grid_column": null,
            "grid_gap": null,
            "grid_row": null,
            "grid_template_areas": null,
            "grid_template_columns": null,
            "grid_template_rows": null,
            "height": null,
            "justify_content": null,
            "justify_items": null,
            "left": null,
            "margin": null,
            "max_height": null,
            "max_width": null,
            "min_height": null,
            "min_width": null,
            "object_fit": null,
            "object_position": null,
            "order": null,
            "overflow": null,
            "overflow_x": null,
            "overflow_y": null,
            "padding": null,
            "right": null,
            "top": null,
            "visibility": null,
            "width": null
          }
        },
        "6dd5f236ff594122858c4223fb51a028": {
          "model_module": "@jupyter-widgets/controls",
          "model_module_version": "1.5.0",
          "model_name": "ProgressStyleModel",
          "state": {
            "_model_module": "@jupyter-widgets/controls",
            "_model_module_version": "1.5.0",
            "_model_name": "ProgressStyleModel",
            "_view_count": null,
            "_view_module": "@jupyter-widgets/base",
            "_view_module_version": "1.2.0",
            "_view_name": "StyleView",
            "bar_color": null,
            "description_width": ""
          }
        },
        "72997e3d7ed448ce8006ee46d8659d3d": {
          "model_module": "@jupyter-widgets/base",
          "model_module_version": "1.2.0",
          "model_name": "LayoutModel",
          "state": {
            "_model_module": "@jupyter-widgets/base",
            "_model_module_version": "1.2.0",
            "_model_name": "LayoutModel",
            "_view_count": null,
            "_view_module": "@jupyter-widgets/base",
            "_view_module_version": "1.2.0",
            "_view_name": "LayoutView",
            "align_content": null,
            "align_items": null,
            "align_self": null,
            "border": null,
            "bottom": null,
            "display": null,
            "flex": null,
            "flex_flow": null,
            "grid_area": null,
            "grid_auto_columns": null,
            "grid_auto_flow": null,
            "grid_auto_rows": null,
            "grid_column": null,
            "grid_gap": null,
            "grid_row": null,
            "grid_template_areas": null,
            "grid_template_columns": null,
            "grid_template_rows": null,
            "height": null,
            "justify_content": null,
            "justify_items": null,
            "left": null,
            "margin": null,
            "max_height": null,
            "max_width": null,
            "min_height": null,
            "min_width": null,
            "object_fit": null,
            "object_position": null,
            "order": null,
            "overflow": null,
            "overflow_x": null,
            "overflow_y": null,
            "padding": null,
            "right": null,
            "top": null,
            "visibility": null,
            "width": null
          }
        },
        "7594bb47df32405a8a72523b660f60f4": {
          "model_module": "@jupyter-widgets/base",
          "model_module_version": "1.2.0",
          "model_name": "LayoutModel",
          "state": {
            "_model_module": "@jupyter-widgets/base",
            "_model_module_version": "1.2.0",
            "_model_name": "LayoutModel",
            "_view_count": null,
            "_view_module": "@jupyter-widgets/base",
            "_view_module_version": "1.2.0",
            "_view_name": "LayoutView",
            "align_content": null,
            "align_items": null,
            "align_self": null,
            "border": null,
            "bottom": null,
            "display": null,
            "flex": null,
            "flex_flow": null,
            "grid_area": null,
            "grid_auto_columns": null,
            "grid_auto_flow": null,
            "grid_auto_rows": null,
            "grid_column": null,
            "grid_gap": null,
            "grid_row": null,
            "grid_template_areas": null,
            "grid_template_columns": null,
            "grid_template_rows": null,
            "height": null,
            "justify_content": null,
            "justify_items": null,
            "left": null,
            "margin": null,
            "max_height": null,
            "max_width": null,
            "min_height": null,
            "min_width": null,
            "object_fit": null,
            "object_position": null,
            "order": null,
            "overflow": null,
            "overflow_x": null,
            "overflow_y": null,
            "padding": null,
            "right": null,
            "top": null,
            "visibility": null,
            "width": null
          }
        },
        "75bca0dbbc794e6ea4874bd4f56ee808": {
          "model_module": "@jupyter-widgets/controls",
          "model_module_version": "1.5.0",
          "model_name": "HTMLModel",
          "state": {
            "_dom_classes": [],
            "_model_module": "@jupyter-widgets/controls",
            "_model_module_version": "1.5.0",
            "_model_name": "HTMLModel",
            "_view_count": null,
            "_view_module": "@jupyter-widgets/controls",
            "_view_module_version": "1.5.0",
            "_view_name": "HTMLView",
            "description": "",
            "description_tooltip": null,
            "layout": "IPY_MODEL_cc19ae24c8e548b297c775d05cf43663",
            "placeholder": "​",
            "style": "IPY_MODEL_a19de98d9ceb4ed7a7612358c860daac",
            "value": " 28.0/28.0 [00:00&lt;00:00, 956B/s]"
          }
        },
        "79db348474844036b78664ba86773249": {
          "model_module": "@jupyter-widgets/controls",
          "model_module_version": "1.5.0",
          "model_name": "HBoxModel",
          "state": {
            "_dom_classes": [],
            "_model_module": "@jupyter-widgets/controls",
            "_model_module_version": "1.5.0",
            "_model_name": "HBoxModel",
            "_view_count": null,
            "_view_module": "@jupyter-widgets/controls",
            "_view_module_version": "1.5.0",
            "_view_name": "HBoxView",
            "box_style": "",
            "children": [
              "IPY_MODEL_3448e78739e24512942dddae8fb50a92",
              "IPY_MODEL_d39e3733e6364903b652dd5c38248580",
              "IPY_MODEL_ab5f4f6da1194e2596668a5a6338aa24"
            ],
            "layout": "IPY_MODEL_7594bb47df32405a8a72523b660f60f4"
          }
        },
        "7f4e4262e64b421cba570974a0af4959": {
          "model_module": "@jupyter-widgets/controls",
          "model_module_version": "1.5.0",
          "model_name": "DescriptionStyleModel",
          "state": {
            "_model_module": "@jupyter-widgets/controls",
            "_model_module_version": "1.5.0",
            "_model_name": "DescriptionStyleModel",
            "_view_count": null,
            "_view_module": "@jupyter-widgets/base",
            "_view_module_version": "1.2.0",
            "_view_name": "StyleView",
            "description_width": ""
          }
        },
        "829fa22c2740483e937646d2d13cdb94": {
          "model_module": "@jupyter-widgets/controls",
          "model_module_version": "1.5.0",
          "model_name": "ProgressStyleModel",
          "state": {
            "_model_module": "@jupyter-widgets/controls",
            "_model_module_version": "1.5.0",
            "_model_name": "ProgressStyleModel",
            "_view_count": null,
            "_view_module": "@jupyter-widgets/base",
            "_view_module_version": "1.2.0",
            "_view_name": "StyleView",
            "bar_color": null,
            "description_width": ""
          }
        },
        "8844c8d79070475db21eebbe2c3581c7": {
          "model_module": "@jupyter-widgets/controls",
          "model_module_version": "1.5.0",
          "model_name": "FloatProgressModel",
          "state": {
            "_dom_classes": [],
            "_model_module": "@jupyter-widgets/controls",
            "_model_module_version": "1.5.0",
            "_model_name": "FloatProgressModel",
            "_view_count": null,
            "_view_module": "@jupyter-widgets/controls",
            "_view_module_version": "1.5.0",
            "_view_name": "ProgressView",
            "bar_style": "success",
            "description": "",
            "description_tooltip": null,
            "layout": "IPY_MODEL_cb768cf334b8497cb75a40959e37604f",
            "max": 28,
            "min": 0,
            "orientation": "horizontal",
            "style": "IPY_MODEL_2a70efd4005f4d64bdf0a89f3bd45237",
            "value": 28
          }
        },
        "919abf143f2b4bbf9e410c0af2089016": {
          "model_module": "@jupyter-widgets/base",
          "model_module_version": "1.2.0",
          "model_name": "LayoutModel",
          "state": {
            "_model_module": "@jupyter-widgets/base",
            "_model_module_version": "1.2.0",
            "_model_name": "LayoutModel",
            "_view_count": null,
            "_view_module": "@jupyter-widgets/base",
            "_view_module_version": "1.2.0",
            "_view_name": "LayoutView",
            "align_content": null,
            "align_items": null,
            "align_self": null,
            "border": null,
            "bottom": null,
            "display": null,
            "flex": null,
            "flex_flow": null,
            "grid_area": null,
            "grid_auto_columns": null,
            "grid_auto_flow": null,
            "grid_auto_rows": null,
            "grid_column": null,
            "grid_gap": null,
            "grid_row": null,
            "grid_template_areas": null,
            "grid_template_columns": null,
            "grid_template_rows": null,
            "height": null,
            "justify_content": null,
            "justify_items": null,
            "left": null,
            "margin": null,
            "max_height": null,
            "max_width": null,
            "min_height": null,
            "min_width": null,
            "object_fit": null,
            "object_position": null,
            "order": null,
            "overflow": null,
            "overflow_x": null,
            "overflow_y": null,
            "padding": null,
            "right": null,
            "top": null,
            "visibility": null,
            "width": null
          }
        },
        "9b12f9a1faa8475b9387480f372501f4": {
          "model_module": "@jupyter-widgets/base",
          "model_module_version": "1.2.0",
          "model_name": "LayoutModel",
          "state": {
            "_model_module": "@jupyter-widgets/base",
            "_model_module_version": "1.2.0",
            "_model_name": "LayoutModel",
            "_view_count": null,
            "_view_module": "@jupyter-widgets/base",
            "_view_module_version": "1.2.0",
            "_view_name": "LayoutView",
            "align_content": null,
            "align_items": null,
            "align_self": null,
            "border": null,
            "bottom": null,
            "display": null,
            "flex": null,
            "flex_flow": null,
            "grid_area": null,
            "grid_auto_columns": null,
            "grid_auto_flow": null,
            "grid_auto_rows": null,
            "grid_column": null,
            "grid_gap": null,
            "grid_row": null,
            "grid_template_areas": null,
            "grid_template_columns": null,
            "grid_template_rows": null,
            "height": null,
            "justify_content": null,
            "justify_items": null,
            "left": null,
            "margin": null,
            "max_height": null,
            "max_width": null,
            "min_height": null,
            "min_width": null,
            "object_fit": null,
            "object_position": null,
            "order": null,
            "overflow": null,
            "overflow_x": null,
            "overflow_y": null,
            "padding": null,
            "right": null,
            "top": null,
            "visibility": null,
            "width": null
          }
        },
        "9b52eb1ef5794176b44d56f8fde432b7": {
          "model_module": "@jupyter-widgets/controls",
          "model_module_version": "1.5.0",
          "model_name": "HTMLModel",
          "state": {
            "_dom_classes": [],
            "_model_module": "@jupyter-widgets/controls",
            "_model_module_version": "1.5.0",
            "_model_name": "HTMLModel",
            "_view_count": null,
            "_view_module": "@jupyter-widgets/controls",
            "_view_module_version": "1.5.0",
            "_view_name": "HTMLView",
            "description": "",
            "description_tooltip": null,
            "layout": "IPY_MODEL_29208a241daf47be86bbdbfb0af44e16",
            "placeholder": "​",
            "style": "IPY_MODEL_1ba810f7499f4c78958d1ecdb087a663",
            "value": " 570/570 [00:00&lt;00:00, 18.4kB/s]"
          }
        },
        "a19de98d9ceb4ed7a7612358c860daac": {
          "model_module": "@jupyter-widgets/controls",
          "model_module_version": "1.5.0",
          "model_name": "DescriptionStyleModel",
          "state": {
            "_model_module": "@jupyter-widgets/controls",
            "_model_module_version": "1.5.0",
            "_model_name": "DescriptionStyleModel",
            "_view_count": null,
            "_view_module": "@jupyter-widgets/base",
            "_view_module_version": "1.2.0",
            "_view_name": "StyleView",
            "description_width": ""
          }
        },
        "a48861e44ca74e2797999ac9ef6e3a3b": {
          "model_module": "@jupyter-widgets/controls",
          "model_module_version": "1.5.0",
          "model_name": "HBoxModel",
          "state": {
            "_dom_classes": [],
            "_model_module": "@jupyter-widgets/controls",
            "_model_module_version": "1.5.0",
            "_model_name": "HBoxModel",
            "_view_count": null,
            "_view_module": "@jupyter-widgets/controls",
            "_view_module_version": "1.5.0",
            "_view_name": "HBoxView",
            "box_style": "",
            "children": [
              "IPY_MODEL_40188b7a4a994da8924692f026dd7cd5",
              "IPY_MODEL_8844c8d79070475db21eebbe2c3581c7",
              "IPY_MODEL_75bca0dbbc794e6ea4874bd4f56ee808"
            ],
            "layout": "IPY_MODEL_65165bf5460048a596e22e80b329b93b"
          }
        },
        "a4d447bada574af48dd67b5205abb982": {
          "model_module": "@jupyter-widgets/controls",
          "model_module_version": "1.5.0",
          "model_name": "HBoxModel",
          "state": {
            "_dom_classes": [],
            "_model_module": "@jupyter-widgets/controls",
            "_model_module_version": "1.5.0",
            "_model_name": "HBoxModel",
            "_view_count": null,
            "_view_module": "@jupyter-widgets/controls",
            "_view_module_version": "1.5.0",
            "_view_name": "HBoxView",
            "box_style": "",
            "children": [
              "IPY_MODEL_1ee31808432944d695ee0e3f690ece20",
              "IPY_MODEL_1cc2ce38bdbd487cb20993fcce404f31",
              "IPY_MODEL_9b52eb1ef5794176b44d56f8fde432b7"
            ],
            "layout": "IPY_MODEL_919abf143f2b4bbf9e410c0af2089016"
          }
        },
        "ab5f4f6da1194e2596668a5a6338aa24": {
          "model_module": "@jupyter-widgets/controls",
          "model_module_version": "1.5.0",
          "model_name": "HTMLModel",
          "state": {
            "_dom_classes": [],
            "_model_module": "@jupyter-widgets/controls",
            "_model_module_version": "1.5.0",
            "_model_name": "HTMLModel",
            "_view_count": null,
            "_view_module": "@jupyter-widgets/controls",
            "_view_module_version": "1.5.0",
            "_view_name": "HTMLView",
            "description": "",
            "description_tooltip": null,
            "layout": "IPY_MODEL_3774503a38ef4f0faba837cdb5d4bf22",
            "placeholder": "​",
            "style": "IPY_MODEL_b78dc86aacae4773a28323ccbcf64619",
            "value": " 536M/536M [00:11&lt;00:00, 44.3MB/s]"
          }
        },
        "b78dc86aacae4773a28323ccbcf64619": {
          "model_module": "@jupyter-widgets/controls",
          "model_module_version": "1.5.0",
          "model_name": "DescriptionStyleModel",
          "state": {
            "_model_module": "@jupyter-widgets/controls",
            "_model_module_version": "1.5.0",
            "_model_name": "DescriptionStyleModel",
            "_view_count": null,
            "_view_module": "@jupyter-widgets/base",
            "_view_module_version": "1.2.0",
            "_view_name": "StyleView",
            "description_width": ""
          }
        },
        "bbb6f3b659b74faf99e817bf68cf6614": {
          "model_module": "@jupyter-widgets/controls",
          "model_module_version": "1.5.0",
          "model_name": "DescriptionStyleModel",
          "state": {
            "_model_module": "@jupyter-widgets/controls",
            "_model_module_version": "1.5.0",
            "_model_name": "DescriptionStyleModel",
            "_view_count": null,
            "_view_module": "@jupyter-widgets/base",
            "_view_module_version": "1.2.0",
            "_view_name": "StyleView",
            "description_width": ""
          }
        },
        "ca430281412b439c8bdb105ac9dc6fca": {
          "model_module": "@jupyter-widgets/controls",
          "model_module_version": "1.5.0",
          "model_name": "DescriptionStyleModel",
          "state": {
            "_model_module": "@jupyter-widgets/controls",
            "_model_module_version": "1.5.0",
            "_model_name": "DescriptionStyleModel",
            "_view_count": null,
            "_view_module": "@jupyter-widgets/base",
            "_view_module_version": "1.2.0",
            "_view_name": "StyleView",
            "description_width": ""
          }
        },
        "cb768cf334b8497cb75a40959e37604f": {
          "model_module": "@jupyter-widgets/base",
          "model_module_version": "1.2.0",
          "model_name": "LayoutModel",
          "state": {
            "_model_module": "@jupyter-widgets/base",
            "_model_module_version": "1.2.0",
            "_model_name": "LayoutModel",
            "_view_count": null,
            "_view_module": "@jupyter-widgets/base",
            "_view_module_version": "1.2.0",
            "_view_name": "LayoutView",
            "align_content": null,
            "align_items": null,
            "align_self": null,
            "border": null,
            "bottom": null,
            "display": null,
            "flex": null,
            "flex_flow": null,
            "grid_area": null,
            "grid_auto_columns": null,
            "grid_auto_flow": null,
            "grid_auto_rows": null,
            "grid_column": null,
            "grid_gap": null,
            "grid_row": null,
            "grid_template_areas": null,
            "grid_template_columns": null,
            "grid_template_rows": null,
            "height": null,
            "justify_content": null,
            "justify_items": null,
            "left": null,
            "margin": null,
            "max_height": null,
            "max_width": null,
            "min_height": null,
            "min_width": null,
            "object_fit": null,
            "object_position": null,
            "order": null,
            "overflow": null,
            "overflow_x": null,
            "overflow_y": null,
            "padding": null,
            "right": null,
            "top": null,
            "visibility": null,
            "width": null
          }
        },
        "cc19ae24c8e548b297c775d05cf43663": {
          "model_module": "@jupyter-widgets/base",
          "model_module_version": "1.2.0",
          "model_name": "LayoutModel",
          "state": {
            "_model_module": "@jupyter-widgets/base",
            "_model_module_version": "1.2.0",
            "_model_name": "LayoutModel",
            "_view_count": null,
            "_view_module": "@jupyter-widgets/base",
            "_view_module_version": "1.2.0",
            "_view_name": "LayoutView",
            "align_content": null,
            "align_items": null,
            "align_self": null,
            "border": null,
            "bottom": null,
            "display": null,
            "flex": null,
            "flex_flow": null,
            "grid_area": null,
            "grid_auto_columns": null,
            "grid_auto_flow": null,
            "grid_auto_rows": null,
            "grid_column": null,
            "grid_gap": null,
            "grid_row": null,
            "grid_template_areas": null,
            "grid_template_columns": null,
            "grid_template_rows": null,
            "height": null,
            "justify_content": null,
            "justify_items": null,
            "left": null,
            "margin": null,
            "max_height": null,
            "max_width": null,
            "min_height": null,
            "min_width": null,
            "object_fit": null,
            "object_position": null,
            "order": null,
            "overflow": null,
            "overflow_x": null,
            "overflow_y": null,
            "padding": null,
            "right": null,
            "top": null,
            "visibility": null,
            "width": null
          }
        },
        "cc1d0be9c0284d8087f5c38fd4a91439": {
          "model_module": "@jupyter-widgets/controls",
          "model_module_version": "1.5.0",
          "model_name": "HTMLModel",
          "state": {
            "_dom_classes": [],
            "_model_module": "@jupyter-widgets/controls",
            "_model_module_version": "1.5.0",
            "_model_name": "HTMLModel",
            "_view_count": null,
            "_view_module": "@jupyter-widgets/controls",
            "_view_module_version": "1.5.0",
            "_view_name": "HTMLView",
            "description": "",
            "description_tooltip": null,
            "layout": "IPY_MODEL_6c98a5a953e54c2f810c26bd66480db2",
            "placeholder": "​",
            "style": "IPY_MODEL_ff9abb88daec4cdfb8bf0ef7e262b620",
            "value": " 466k/466k [00:00&lt;00:00, 8.00MB/s]"
          }
        },
        "cc852f2ac21e43e0bd22ea2785e2241f": {
          "model_module": "@jupyter-widgets/controls",
          "model_module_version": "1.5.0",
          "model_name": "DescriptionStyleModel",
          "state": {
            "_model_module": "@jupyter-widgets/controls",
            "_model_module_version": "1.5.0",
            "_model_name": "DescriptionStyleModel",
            "_view_count": null,
            "_view_module": "@jupyter-widgets/base",
            "_view_module_version": "1.2.0",
            "_view_name": "StyleView",
            "description_width": ""
          }
        },
        "d39e3733e6364903b652dd5c38248580": {
          "model_module": "@jupyter-widgets/controls",
          "model_module_version": "1.5.0",
          "model_name": "FloatProgressModel",
          "state": {
            "_dom_classes": [],
            "_model_module": "@jupyter-widgets/controls",
            "_model_module_version": "1.5.0",
            "_model_name": "FloatProgressModel",
            "_view_count": null,
            "_view_module": "@jupyter-widgets/controls",
            "_view_module_version": "1.5.0",
            "_view_name": "ProgressView",
            "bar_style": "success",
            "description": "",
            "description_tooltip": null,
            "layout": "IPY_MODEL_687b642741ae411c9defcadf3ffff0c4",
            "max": 536063208,
            "min": 0,
            "orientation": "horizontal",
            "style": "IPY_MODEL_6dd5f236ff594122858c4223fb51a028",
            "value": 536063208
          }
        },
        "d9e63ba3c54f4332a7e7d4f8bfebeb25": {
          "model_module": "@jupyter-widgets/base",
          "model_module_version": "1.2.0",
          "model_name": "LayoutModel",
          "state": {
            "_model_module": "@jupyter-widgets/base",
            "_model_module_version": "1.2.0",
            "_model_name": "LayoutModel",
            "_view_count": null,
            "_view_module": "@jupyter-widgets/base",
            "_view_module_version": "1.2.0",
            "_view_name": "LayoutView",
            "align_content": null,
            "align_items": null,
            "align_self": null,
            "border": null,
            "bottom": null,
            "display": null,
            "flex": null,
            "flex_flow": null,
            "grid_area": null,
            "grid_auto_columns": null,
            "grid_auto_flow": null,
            "grid_auto_rows": null,
            "grid_column": null,
            "grid_gap": null,
            "grid_row": null,
            "grid_template_areas": null,
            "grid_template_columns": null,
            "grid_template_rows": null,
            "height": null,
            "justify_content": null,
            "justify_items": null,
            "left": null,
            "margin": null,
            "max_height": null,
            "max_width": null,
            "min_height": null,
            "min_width": null,
            "object_fit": null,
            "object_position": null,
            "order": null,
            "overflow": null,
            "overflow_x": null,
            "overflow_y": null,
            "padding": null,
            "right": null,
            "top": null,
            "visibility": null,
            "width": null
          }
        },
        "e7013ae85bf9485787705aefd0185b7f": {
          "model_module": "@jupyter-widgets/controls",
          "model_module_version": "1.5.0",
          "model_name": "ProgressStyleModel",
          "state": {
            "_model_module": "@jupyter-widgets/controls",
            "_model_module_version": "1.5.0",
            "_model_name": "ProgressStyleModel",
            "_view_count": null,
            "_view_module": "@jupyter-widgets/base",
            "_view_module_version": "1.2.0",
            "_view_name": "StyleView",
            "bar_color": null,
            "description_width": ""
          }
        },
        "e7685b3a12994a689958549292e2fbad": {
          "model_module": "@jupyter-widgets/controls",
          "model_module_version": "1.5.0",
          "model_name": "HBoxModel",
          "state": {
            "_dom_classes": [],
            "_model_module": "@jupyter-widgets/controls",
            "_model_module_version": "1.5.0",
            "_model_name": "HBoxModel",
            "_view_count": null,
            "_view_module": "@jupyter-widgets/controls",
            "_view_module_version": "1.5.0",
            "_view_name": "HBoxView",
            "box_style": "",
            "children": [
              "IPY_MODEL_40286f138e1b467eabd1f39be41cfcc2",
              "IPY_MODEL_4c6c829f459545a2a913b9232ed446f6",
              "IPY_MODEL_53c31e0475d642c6bc115a1ef4fe3b1e"
            ],
            "layout": "IPY_MODEL_9b12f9a1faa8475b9387480f372501f4"
          }
        },
        "ed559b687e244a1384a5cb68db7747db": {
          "model_module": "@jupyter-widgets/controls",
          "model_module_version": "1.5.0",
          "model_name": "FloatProgressModel",
          "state": {
            "_dom_classes": [],
            "_model_module": "@jupyter-widgets/controls",
            "_model_module_version": "1.5.0",
            "_model_name": "FloatProgressModel",
            "_view_count": null,
            "_view_module": "@jupyter-widgets/controls",
            "_view_module_version": "1.5.0",
            "_view_name": "ProgressView",
            "bar_style": "success",
            "description": "",
            "description_tooltip": null,
            "layout": "IPY_MODEL_3bf3dc1a1ada45e99e2a427d85f0a4bf",
            "max": 466062,
            "min": 0,
            "orientation": "horizontal",
            "style": "IPY_MODEL_e7013ae85bf9485787705aefd0185b7f",
            "value": 466062
          }
        },
        "f601dbfe6f4942b3b0dc1fbdd81494b4": {
          "model_module": "@jupyter-widgets/base",
          "model_module_version": "1.2.0",
          "model_name": "LayoutModel",
          "state": {
            "_model_module": "@jupyter-widgets/base",
            "_model_module_version": "1.2.0",
            "_model_name": "LayoutModel",
            "_view_count": null,
            "_view_module": "@jupyter-widgets/base",
            "_view_module_version": "1.2.0",
            "_view_name": "LayoutView",
            "align_content": null,
            "align_items": null,
            "align_self": null,
            "border": null,
            "bottom": null,
            "display": null,
            "flex": null,
            "flex_flow": null,
            "grid_area": null,
            "grid_auto_columns": null,
            "grid_auto_flow": null,
            "grid_auto_rows": null,
            "grid_column": null,
            "grid_gap": null,
            "grid_row": null,
            "grid_template_areas": null,
            "grid_template_columns": null,
            "grid_template_rows": null,
            "height": null,
            "justify_content": null,
            "justify_items": null,
            "left": null,
            "margin": null,
            "max_height": null,
            "max_width": null,
            "min_height": null,
            "min_width": null,
            "object_fit": null,
            "object_position": null,
            "order": null,
            "overflow": null,
            "overflow_x": null,
            "overflow_y": null,
            "padding": null,
            "right": null,
            "top": null,
            "visibility": null,
            "width": null
          }
        },
        "ff9abb88daec4cdfb8bf0ef7e262b620": {
          "model_module": "@jupyter-widgets/controls",
          "model_module_version": "1.5.0",
          "model_name": "DescriptionStyleModel",
          "state": {
            "_model_module": "@jupyter-widgets/controls",
            "_model_module_version": "1.5.0",
            "_model_name": "DescriptionStyleModel",
            "_view_count": null,
            "_view_module": "@jupyter-widgets/base",
            "_view_module_version": "1.2.0",
            "_view_name": "StyleView",
            "description_width": ""
          }
        }
      }
    }
  },
  "nbformat": 4,
  "nbformat_minor": 0
}